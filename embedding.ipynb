{
 "cells": [
  {
   "cell_type": "code",
   "execution_count": 6,
   "metadata": {},
   "outputs": [],
   "source": [
    "from keras import Sequential\n",
    "from keras.layers import Embedding\n",
    "import numpy as np\n",
    "import pandas as pd"
   ]
  },
  {
   "cell_type": "markdown",
   "metadata": {},
   "source": [
    "Embedding layer StackOverflow reference: https://stackoverflow.com/a/55412509"
   ]
  },
  {
   "cell_type": "code",
   "execution_count": 68,
   "metadata": {},
   "outputs": [
    {
     "data": {
      "text/plain": [
       "(32, 10, 1)"
      ]
     },
     "execution_count": 68,
     "metadata": {},
     "output_type": "execute_result"
    }
   ],
   "source": [
    "\n",
    "model = Sequential()\n",
    "model.add(Embedding(1000, output_dim=1))\n",
    "# the model will take as input an integer matrix of size (batch, input_length).\n",
    "# the largest integer (i.e. word index) in the input should be\n",
    "# no larger than 999 (vocabulary size).\n",
    "# now model.output_shape == (None, 10, 64), where None is the batch dimension.\n",
    "\n",
    "input_array = np.random.randint(1000, size=(32, 10))\n",
    "\n",
    "model.compile('rmsprop', 'mse')\n",
    "output_array = model.predict(input_array)\n",
    "output_array.shape"
   ]
  },
  {
   "cell_type": "code",
   "execution_count": 42,
   "metadata": {
    "collapsed": true
   },
   "outputs": [
    {
     "data": {
      "text/plain": [
       "array([[948,  33, 951, 292, 201, 328,  95, 606, 587, 830],\n",
       "       [397,   8, 617, 434, 499, 804, 809, 893, 280,  58],\n",
       "       [363, 594, 256, 876, 931, 469,  25,  76, 259, 831],\n",
       "       [221, 531, 765, 228, 412, 814,  65, 135, 892, 738],\n",
       "       [ 21, 985, 652, 116,  33, 694, 818, 801, 190,  93],\n",
       "       [ 23, 299, 892, 725, 233, 229, 831, 485, 391, 372],\n",
       "       [ 25, 855, 694, 923, 892,  49, 663, 148, 694, 626],\n",
       "       [647, 429, 480, 352, 563, 216, 503, 944, 559, 959],\n",
       "       [728, 870, 461, 986, 569, 991, 356, 291,  34, 585],\n",
       "       [398, 669, 159, 505, 612, 596, 277, 227, 292, 311],\n",
       "       [779, 791, 283, 567, 210, 914, 550, 200, 597, 758],\n",
       "       [421, 792, 938, 378, 179, 716, 834, 463, 891, 583],\n",
       "       [ 87, 839, 335, 896, 796,  42, 931, 400, 470, 790],\n",
       "       [433, 509, 787, 803, 242, 616, 873, 406, 216, 736],\n",
       "       [585, 196, 570, 580, 311, 370, 770, 821, 679,  91],\n",
       "       [729, 594,  91, 343, 821, 629, 531, 467, 149,  50],\n",
       "       [421, 183, 296, 766, 977, 479, 359, 927, 635, 441],\n",
       "       [933, 841, 429, 611, 909, 863, 632, 583,  81, 871],\n",
       "       [658, 610, 780, 503, 978, 693, 196,  93, 418, 979],\n",
       "       [496, 911, 808, 953, 796, 300, 809, 460, 383, 318],\n",
       "       [460, 927, 261,  70,  21, 127, 800, 283,  45, 533],\n",
       "       [797, 896, 447, 616, 157, 759, 521, 924, 192, 779],\n",
       "       [948, 148, 171, 989, 671, 759, 430, 916, 235, 871],\n",
       "       [386, 164,  29, 916, 205, 549, 700,   0, 542, 564],\n",
       "       [324, 647, 237, 280, 712, 617, 745,  56,  18, 436],\n",
       "       [957, 784, 682, 531, 914, 976,   2, 308,  64, 346],\n",
       "       [627, 539, 676, 606, 132, 316, 153, 221, 845, 367],\n",
       "       [  7, 475, 354, 958, 492, 276, 209, 325,  52, 348],\n",
       "       [167, 656, 393, 876, 102, 195, 495, 438, 728,  44],\n",
       "       [791, 538, 636, 896, 674, 152, 720, 799, 668, 354],\n",
       "       [235, 298, 513, 463, 951, 165, 280, 129, 502, 970],\n",
       "       [428, 243, 857, 385, 709, 222, 377, 776, 156, 587]])"
      ]
     },
     "execution_count": 42,
     "metadata": {},
     "output_type": "execute_result"
    }
   ],
   "source": [
    "input_array"
   ]
  },
  {
   "cell_type": "code",
   "execution_count": 10,
   "metadata": {
    "collapsed": true
   },
   "outputs": [
    {
     "name": "stdout",
     "output_type": "stream",
     "text": [
      "Model: \"sequential_5\"\n",
      "_________________________________________________________________\n",
      "Layer (type)                 Output Shape              Param #   \n",
      "=================================================================\n",
      "embedding_5 (Embedding)      (None, 10, 64)            64000     \n",
      "=================================================================\n",
      "Total params: 64,000\n",
      "Trainable params: 64,000\n",
      "Non-trainable params: 0\n",
      "_________________________________________________________________\n"
     ]
    }
   ],
   "source": [
    "model.summary()"
   ]
  },
  {
   "cell_type": "code",
   "execution_count": 58,
   "metadata": {},
   "outputs": [
    {
     "data": {
      "text/plain": [
       "(32, 10, 1)"
      ]
     },
     "execution_count": 58,
     "metadata": {},
     "output_type": "execute_result"
    }
   ],
   "source": [
    "output_array.shape"
   ]
  },
  {
   "cell_type": "code",
   "execution_count": 59,
   "metadata": {},
   "outputs": [
    {
     "data": {
      "text/plain": [
       "array([[[-0.00780063],\n",
       "        [-0.00780063],\n",
       "        [-0.0417753 ],\n",
       "        [ 0.0455409 ],\n",
       "        [-0.03371537],\n",
       "        [-0.03264876],\n",
       "        [ 0.01220288],\n",
       "        [-0.00549419],\n",
       "        [ 0.0490501 ],\n",
       "        [ 0.0472078 ]],\n",
       "\n",
       "       [[-0.03146956],\n",
       "        [-0.01863033],\n",
       "        [-0.04240719],\n",
       "        [-0.02137151],\n",
       "        [ 0.04868585],\n",
       "        [-0.00356852],\n",
       "        [ 0.02163789],\n",
       "        [-0.00916635],\n",
       "        [-0.04452842],\n",
       "        [-0.02888204]],\n",
       "\n",
       "       [[-0.0199322 ],\n",
       "        [ 0.047727  ],\n",
       "        [-0.02921844],\n",
       "        [-0.00709251],\n",
       "        [ 0.01854404],\n",
       "        [-0.02407013],\n",
       "        [ 0.02182761],\n",
       "        [ 0.0415928 ],\n",
       "        [ 0.01536012],\n",
       "        [ 0.0225907 ]],\n",
       "\n",
       "       [[ 0.0031872 ],\n",
       "        [ 0.03818404],\n",
       "        [ 0.00638597],\n",
       "        [ 0.02629775],\n",
       "        [ 0.01346848],\n",
       "        [ 0.01728627],\n",
       "        [-0.03533166],\n",
       "        [ 0.02854511],\n",
       "        [-0.00750468],\n",
       "        [-0.01072718]],\n",
       "\n",
       "       [[ 0.04592219],\n",
       "        [ 0.03553548],\n",
       "        [ 0.02189073],\n",
       "        [-0.01816304],\n",
       "        [ 0.04872506],\n",
       "        [ 0.00471656],\n",
       "        [-0.03782948],\n",
       "        [-0.01169715],\n",
       "        [ 0.02798038],\n",
       "        [-0.01618761]],\n",
       "\n",
       "       [[ 0.02047737],\n",
       "        [-0.02482191],\n",
       "        [ 0.00901014],\n",
       "        [-0.02156115],\n",
       "        [ 0.01965462],\n",
       "        [-0.04156132],\n",
       "        [-0.04293702],\n",
       "        [-0.0127418 ],\n",
       "        [-0.04609478],\n",
       "        [-0.03304857]],\n",
       "\n",
       "       [[-0.00685229],\n",
       "        [ 0.02054694],\n",
       "        [ 0.02000785],\n",
       "        [ 0.03744383],\n",
       "        [-0.00916635],\n",
       "        [ 0.03915218],\n",
       "        [-0.02576848],\n",
       "        [ 0.00507544],\n",
       "        [-0.01045161],\n",
       "        [ 0.01198517]],\n",
       "\n",
       "       [[-0.04215229],\n",
       "        [ 0.03124217],\n",
       "        [ 0.01686934],\n",
       "        [-0.02726132],\n",
       "        [ 0.02112443],\n",
       "        [ 0.03207295],\n",
       "        [-0.01863033],\n",
       "        [ 0.03784725],\n",
       "        [ 0.00592047],\n",
       "        [ 0.0031872 ]],\n",
       "\n",
       "       [[ 0.04250481],\n",
       "        [ 0.00507544],\n",
       "        [-0.01903349],\n",
       "        [ 0.02124887],\n",
       "        [ 0.00519795],\n",
       "        [-0.03917534],\n",
       "        [ 0.02335937],\n",
       "        [ 0.01351071],\n",
       "        [-0.04374881],\n",
       "        [-0.04477556]],\n",
       "\n",
       "       [[-0.03714403],\n",
       "        [-0.03486329],\n",
       "        [ 0.01390994],\n",
       "        [-0.02458545],\n",
       "        [ 0.00901014],\n",
       "        [ 0.00282341],\n",
       "        [-0.02048395],\n",
       "        [ 0.00486636],\n",
       "        [-0.01101848],\n",
       "        [-0.04548061]],\n",
       "\n",
       "       [[ 0.01206443],\n",
       "        [-0.02808755],\n",
       "        [ 0.03531058],\n",
       "        [ 0.02874829],\n",
       "        [-0.02107283],\n",
       "        [ 0.00927398],\n",
       "        [ 0.01404401],\n",
       "        [ 0.02236957],\n",
       "        [ 0.00433784],\n",
       "        [ 0.00498975]],\n",
       "\n",
       "       [[-0.01381467],\n",
       "        [ 0.02137697],\n",
       "        [ 0.047727  ],\n",
       "        [ 0.01660725],\n",
       "        [-0.03004422],\n",
       "        [ 0.02112443],\n",
       "        [-0.020926  ],\n",
       "        [ 0.02012242],\n",
       "        [-0.04556757],\n",
       "        [ 0.00119008]],\n",
       "\n",
       "       [[-0.03701402],\n",
       "        [ 0.04562756],\n",
       "        [-0.02482191],\n",
       "        [ 0.03901073],\n",
       "        [-0.03987496],\n",
       "        [ 0.00403179],\n",
       "        [-0.01812262],\n",
       "        [ 0.02236957],\n",
       "        [-0.02048395],\n",
       "        [-0.01733505]],\n",
       "\n",
       "       [[-0.04204321],\n",
       "        [ 0.00444686],\n",
       "        [-0.01638087],\n",
       "        [ 0.01699474],\n",
       "        [ 0.00014707],\n",
       "        [ 0.04358531],\n",
       "        [ 0.02570486],\n",
       "        [ 0.047727  ],\n",
       "        [-0.00746589],\n",
       "        [ 0.01202177]],\n",
       "\n",
       "       [[ 0.00825211],\n",
       "        [-0.01273941],\n",
       "        [-0.00575435],\n",
       "        [ 0.04237349],\n",
       "        [-0.0451271 ],\n",
       "        [ 0.03520682],\n",
       "        [-0.01965414],\n",
       "        [ 0.04512979],\n",
       "        [ 0.03481081],\n",
       "        [-0.03149041]],\n",
       "\n",
       "       [[ 0.00690041],\n",
       "        [ 0.01014113],\n",
       "        [ 0.00770377],\n",
       "        [-0.02209641],\n",
       "        [-0.03067281],\n",
       "        [ 0.01144574],\n",
       "        [-0.04222348],\n",
       "        [ 0.02912502],\n",
       "        [ 0.01717586],\n",
       "        [-0.00640709]],\n",
       "\n",
       "       [[-0.00549419],\n",
       "        [-0.01352878],\n",
       "        [ 0.03616432],\n",
       "        [ 0.00613312],\n",
       "        [ 0.02080827],\n",
       "        [-0.04606073],\n",
       "        [-0.03945508],\n",
       "        [ 0.04925937],\n",
       "        [ 0.00403179],\n",
       "        [-0.00609847]],\n",
       "\n",
       "       [[-0.01260904],\n",
       "        [-0.01542789],\n",
       "        [ 0.04954017],\n",
       "        [ 0.04010593],\n",
       "        [ 0.01250115],\n",
       "        [ 0.04385016],\n",
       "        [-0.00279249],\n",
       "        [-0.02329174],\n",
       "        [-0.04222348],\n",
       "        [ 0.00893924]],\n",
       "\n",
       "       [[ 0.00321065],\n",
       "        [ 0.03678313],\n",
       "        [ 0.00498295],\n",
       "        [ 0.04635869],\n",
       "        [-0.01955187],\n",
       "        [-0.04700152],\n",
       "        [ 0.03581585],\n",
       "        [ 0.04137555],\n",
       "        [-0.04976973],\n",
       "        [-0.02664235]],\n",
       "\n",
       "       [[-0.04458393],\n",
       "        [ 0.01728627],\n",
       "        [-0.04867101],\n",
       "        [ 0.03124217],\n",
       "        [ 0.02767047],\n",
       "        [ 0.00403179],\n",
       "        [-0.04027062],\n",
       "        [-0.04294368],\n",
       "        [-0.01368998],\n",
       "        [ 0.03659308]],\n",
       "\n",
       "       [[ 0.04250481],\n",
       "        [-0.04781903],\n",
       "        [-0.01649561],\n",
       "        [-0.0330441 ],\n",
       "        [ 0.02701838],\n",
       "        [ 0.03122341],\n",
       "        [ 0.01665225],\n",
       "        [ 0.0267004 ],\n",
       "        [-0.01072718],\n",
       "        [ 0.00391506]],\n",
       "\n",
       "       [[ 0.00795952],\n",
       "        [-0.01248496],\n",
       "        [ 0.02168764],\n",
       "        [ 0.03602904],\n",
       "        [-0.01075294],\n",
       "        [ 0.00201771],\n",
       "        [-0.04524831],\n",
       "        [ 0.00033932],\n",
       "        [-0.02251117],\n",
       "        [ 0.00241135]],\n",
       "\n",
       "       [[ 0.02854511],\n",
       "        [-0.00223958],\n",
       "        [ 0.00875603],\n",
       "        [-0.03637059],\n",
       "        [ 0.02148814],\n",
       "        [-0.03945508],\n",
       "        [-0.001197  ],\n",
       "        [ 0.02557397],\n",
       "        [-0.04781903],\n",
       "        [-0.01458923]],\n",
       "\n",
       "       [[-0.00151855],\n",
       "        [ 0.02168764],\n",
       "        [-0.04688143],\n",
       "        [ 0.02933426],\n",
       "        [-0.04606073],\n",
       "        [ 0.01390994],\n",
       "        [ 0.02475828],\n",
       "        [-0.0307188 ],\n",
       "        [-0.02323438],\n",
       "        [-0.01965414]],\n",
       "\n",
       "       [[-0.04188783],\n",
       "        [ 0.02590945],\n",
       "        [ 0.0180679 ],\n",
       "        [ 0.01177906],\n",
       "        [-0.01207787],\n",
       "        [-0.01144538],\n",
       "        [-0.03129794],\n",
       "        [-0.01733568],\n",
       "        [ 0.04385016],\n",
       "        [ 0.04964669]],\n",
       "\n",
       "       [[ 0.0013952 ],\n",
       "        [ 0.02024371],\n",
       "        [-0.04236145],\n",
       "        [ 0.01420007],\n",
       "        [ 0.01223942],\n",
       "        [-0.02784728],\n",
       "        [-0.01601092],\n",
       "        [-0.00301814],\n",
       "        [-0.03495437],\n",
       "        [ 0.00857736]],\n",
       "\n",
       "       [[ 0.00798503],\n",
       "        [ 0.00081984],\n",
       "        [-0.02559183],\n",
       "        [ 0.01515892],\n",
       "        [ 0.040421  ],\n",
       "        [ 0.03784725],\n",
       "        [-0.02479824],\n",
       "        [-0.01040149],\n",
       "        [ 0.02159632],\n",
       "        [-0.01207787]],\n",
       "\n",
       "       [[-0.02032788],\n",
       "        [ 0.02734878],\n",
       "        [-0.02005258],\n",
       "        [-0.01396418],\n",
       "        [ 0.03783584],\n",
       "        [ 0.0191392 ],\n",
       "        [-0.03154662],\n",
       "        [-0.01349093],\n",
       "        [ 0.04398661],\n",
       "        [-0.00140231]],\n",
       "\n",
       "       [[-0.0336609 ],\n",
       "        [-0.00780063],\n",
       "        [-0.02137151],\n",
       "        [ 0.03541148],\n",
       "        [ 0.00568137],\n",
       "        [-0.02114208],\n",
       "        [-0.02251117],\n",
       "        [-0.02641511],\n",
       "        [ 0.02072003],\n",
       "        [-0.02253065]],\n",
       "\n",
       "       [[-0.01169715],\n",
       "        [ 0.04617753],\n",
       "        [ 0.00367577],\n",
       "        [ 0.0457907 ],\n",
       "        [-0.02640504],\n",
       "        [ 0.03541148],\n",
       "        [ 0.04649974],\n",
       "        [ 0.03818404],\n",
       "        [-0.02479824],\n",
       "        [ 0.04629853]],\n",
       "\n",
       "       [[ 0.00403179],\n",
       "        [ 0.01094747],\n",
       "        [ 0.04080749],\n",
       "        [-0.04423478],\n",
       "        [ 0.03744383],\n",
       "        [ 0.02024371],\n",
       "        [-0.04976973],\n",
       "        [ 0.04128113],\n",
       "        [ 0.00074767],\n",
       "        [ 0.02236957]],\n",
       "\n",
       "       [[-0.02640504],\n",
       "        [-0.04240719],\n",
       "        [ 0.02694404],\n",
       "        [ 0.02877137],\n",
       "        [-0.0309724 ],\n",
       "        [ 0.03659308],\n",
       "        [ 0.02383207],\n",
       "        [-0.02975348],\n",
       "        [-0.01542789],\n",
       "        [ 0.00945956]]], dtype=float32)"
      ]
     },
     "execution_count": 59,
     "metadata": {},
     "output_type": "execute_result"
    }
   ],
   "source": [
    "output_array"
   ]
  },
  {
   "cell_type": "code",
   "execution_count": 83,
   "metadata": {},
   "outputs": [
    {
     "name": "stdout",
     "output_type": "stream",
     "text": [
      "10\n",
      "10\n",
      "10\n",
      "10\n",
      "10\n",
      "10\n",
      "10\n",
      "10\n",
      "10\n",
      "10\n"
     ]
    }
   ],
   "source": [
    "df=pd.DataFrame({'col_'+str(i) : np.random.uniform(-1,1, size=(10)) for i in range(10)})\n",
    "for ser in df:\n",
    "    print(len(df[ser].unique()))"
   ]
  },
  {
   "cell_type": "code",
   "execution_count": 36,
   "metadata": {},
   "outputs": [],
   "source": [
    "def load_data(train_file_name, test_file_name):\n",
    "    \"\"\" load training data from kaggle dataset\n",
    "    @param train_file_name: fully qualified file name of train.csv from kaggle\n",
    "    housing practice competition\n",
    "    @param test_file_name: fully qualified file name of test.csv from kaggle\n",
    "    housing practice competition\n",
    "    @return: pair of tuples of observations and responses\n",
    "    \"\"\"\n",
    "    test_df = pd.read_csv(test_file_name, index_col='Id')    \n",
    "    train_df = pd.read_csv(train_file_name, index_col='Id')\n",
    "\n",
    "    def encode_cats(df):\n",
    "        \"\"\" one-hot encode all categorical values in data frame\n",
    "        @param df: a dataframe\n",
    "        @return: one hot encoded equivalents of non-numerical\n",
    "        columns in data frame\n",
    "        \"\"\"\n",
    "        df_numeric = df.select_dtypes(include = np.number)\n",
    "        df_numeric.fillna(df.mean(), inplace=True)\n",
    "        df_non_numeric = df.drop(df_numeric.columns, axis=1)\n",
    "        df_one_hot =  pd.get_dummies(df[non_numeric_columns])\n",
    "        df_one_hot.fillna(0, inplace=True)\n",
    "        return (df_numeric, df_one_hot)\n",
    "    \n",
    "    return (encode_cats(train_df.iloc[:,1:-1]), train_df.iloc[:,-1] ), \\\n",
    "        encode_cats(test_df)"
   ]
  },
  {
   "cell_type": "code",
   "execution_count": 37,
   "metadata": {},
   "outputs": [
    {
     "name": "stderr",
     "output_type": "stream",
     "text": [
      "/home/jhancock2010/venv/fastai-2019-08-01/lib/python3.5/site-packages/pandas/core/generic.py:6130: SettingWithCopyWarning: \n",
      "A value is trying to be set on a copy of a slice from a DataFrame\n",
      "\n",
      "See the caveats in the documentation: http://pandas.pydata.org/pandas-docs/stable/indexing.html#indexing-view-versus-copy\n",
      "  self._update_inplace(new_data)\n"
     ]
    },
    {
     "ename": "ValueError",
     "evalue": "not enough values to unpack (expected 3, got 2)",
     "output_type": "error",
     "traceback": [
      "\u001b[0;31m---------------------------------------------------------------------------\u001b[0m",
      "\u001b[0;31mValueError\u001b[0m                                Traceback (most recent call last)",
      "\u001b[0;32m<ipython-input-37-e8f094de2840>\u001b[0m in \u001b[0;36m<module>\u001b[0;34m\u001b[0m\n\u001b[1;32m      1\u001b[0m (train_data_numeric, train_data_one_hot , train_targets), (test_data_numeric, test_data_one_hot) = load_data('/home/jhancock2010/git/data/house/train.csv',\n\u001b[0;32m----> 2\u001b[0;31m                                                  '/home/jhancock2010/git/data/house/test.csv')\n\u001b[0m\u001b[1;32m      3\u001b[0m \u001b[0mmean\u001b[0m \u001b[0;34m=\u001b[0m \u001b[0mtrain_data\u001b[0m\u001b[0;34m.\u001b[0m\u001b[0mmean\u001b[0m\u001b[0;34m(\u001b[0m\u001b[0maxis\u001b[0m\u001b[0;34m=\u001b[0m\u001b[0;36m0\u001b[0m\u001b[0;34m)\u001b[0m\u001b[0;34m\u001b[0m\u001b[0m\n\u001b[1;32m      4\u001b[0m \u001b[0mtrain_data\u001b[0m \u001b[0;34m-=\u001b[0m \u001b[0mmean\u001b[0m\u001b[0;34m\u001b[0m\u001b[0m\n\u001b[1;32m      5\u001b[0m \u001b[0mstd\u001b[0m \u001b[0;34m=\u001b[0m \u001b[0mtrain_data\u001b[0m\u001b[0;34m.\u001b[0m\u001b[0mstd\u001b[0m\u001b[0;34m(\u001b[0m\u001b[0maxis\u001b[0m\u001b[0;34m=\u001b[0m\u001b[0;36m0\u001b[0m\u001b[0;34m)\u001b[0m\u001b[0;34m\u001b[0m\u001b[0m\n",
      "\u001b[0;31mValueError\u001b[0m: not enough values to unpack (expected 3, got 2)"
     ]
    }
   ],
   "source": [
    "(train_data_numeric, train_data_one_hot , train_targets), (test_data_numeric, test_data_one_hot) = load_data('/home/jhancock2010/git/data/house/train.csv',\n",
    "                                                 '/home/jhancock2010/git/data/house/test.csv')\n",
    "mean = train_data.mean(axis=0)\n",
    "train_data -= mean\n",
    "std = train_data.std(axis=0)\n",
    "train_data /= std\n",
    "test_data -= mean\n",
    "test_data /= std\n"
   ]
  },
  {
   "cell_type": "code",
   "execution_count": 10,
   "metadata": {},
   "outputs": [
    {
     "data": {
      "text/plain": [
       "287"
      ]
     },
     "execution_count": 10,
     "metadata": {},
     "output_type": "execute_result"
    }
   ],
   "source": [
    "train_data.shape[1]"
   ]
  },
  {
   "cell_type": "code",
   "execution_count": 35,
   "metadata": {},
   "outputs": [
    {
     "name": "stdout",
     "output_type": "stream",
     "text": [
      "38.183775152957416 -38.1837751529566\n"
     ]
    }
   ],
   "source": [
    "print(train_data.max().max(),\n",
    "train_data.min().min())"
   ]
  },
  {
   "cell_type": "code",
   "execution_count": 22,
   "metadata": {},
   "outputs": [],
   "source": [
    "model = Sequential()\n",
    "model.add(Embedding(215245, 64, input_length=train_data.shape[1]))"
   ]
  },
  {
   "cell_type": "code",
   "execution_count": 23,
   "metadata": {},
   "outputs": [
    {
     "ename": "InvalidArgumentError",
     "evalue": " indices[31,0] = -2147483648 is not in [0, 215245)\n\t [[node embedding_2/embedding_lookup (defined at /home/jhancock2010/venv/fastai-2019-08-01/lib/python3.5/site-packages/tensorflow_core/python/framework/ops.py:1751) ]] [Op:__inference_keras_scratch_graph_266]\n\nFunction call stack:\nkeras_scratch_graph\n",
     "output_type": "error",
     "traceback": [
      "\u001b[0;31m---------------------------------------------------------------------------\u001b[0m",
      "\u001b[0;31mInvalidArgumentError\u001b[0m                      Traceback (most recent call last)",
      "\u001b[0;32m<ipython-input-23-1771c431f1de>\u001b[0m in \u001b[0;36m<module>\u001b[0;34m\u001b[0m\n\u001b[1;32m      1\u001b[0m \u001b[0mmodel\u001b[0m\u001b[0;34m.\u001b[0m\u001b[0mcompile\u001b[0m\u001b[0;34m(\u001b[0m\u001b[0;34m'rmsprop'\u001b[0m\u001b[0;34m,\u001b[0m \u001b[0;34m'mse'\u001b[0m\u001b[0;34m)\u001b[0m\u001b[0;34m\u001b[0m\u001b[0m\n\u001b[0;32m----> 2\u001b[0;31m \u001b[0moutput_array\u001b[0m \u001b[0;34m=\u001b[0m \u001b[0mmodel\u001b[0m\u001b[0;34m.\u001b[0m\u001b[0mpredict\u001b[0m\u001b[0;34m(\u001b[0m\u001b[0mtrain_data\u001b[0m\u001b[0;34m)\u001b[0m\u001b[0;34m\u001b[0m\u001b[0m\n\u001b[0m",
      "\u001b[0;32m~/venv/fastai-2019-08-01/lib/python3.5/site-packages/keras/engine/training.py\u001b[0m in \u001b[0;36mpredict\u001b[0;34m(self, x, batch_size, verbose, steps, callbacks, max_queue_size, workers, use_multiprocessing)\u001b[0m\n\u001b[1;32m   1460\u001b[0m                                             \u001b[0mverbose\u001b[0m\u001b[0;34m=\u001b[0m\u001b[0mverbose\u001b[0m\u001b[0;34m,\u001b[0m\u001b[0;34m\u001b[0m\u001b[0m\n\u001b[1;32m   1461\u001b[0m                                             \u001b[0msteps\u001b[0m\u001b[0;34m=\u001b[0m\u001b[0msteps\u001b[0m\u001b[0;34m,\u001b[0m\u001b[0;34m\u001b[0m\u001b[0m\n\u001b[0;32m-> 1462\u001b[0;31m                                             callbacks=callbacks)\n\u001b[0m\u001b[1;32m   1463\u001b[0m \u001b[0;34m\u001b[0m\u001b[0m\n\u001b[1;32m   1464\u001b[0m     def train_on_batch(self, x, y,\n",
      "\u001b[0;32m~/venv/fastai-2019-08-01/lib/python3.5/site-packages/keras/engine/training_arrays.py\u001b[0m in \u001b[0;36mpredict_loop\u001b[0;34m(model, f, ins, batch_size, verbose, steps, callbacks)\u001b[0m\n\u001b[1;32m    322\u001b[0m             \u001b[0mbatch_logs\u001b[0m \u001b[0;34m=\u001b[0m \u001b[0;34m{\u001b[0m\u001b[0;34m'batch'\u001b[0m\u001b[0;34m:\u001b[0m \u001b[0mbatch_index\u001b[0m\u001b[0;34m,\u001b[0m \u001b[0;34m'size'\u001b[0m\u001b[0;34m:\u001b[0m \u001b[0mlen\u001b[0m\u001b[0;34m(\u001b[0m\u001b[0mbatch_ids\u001b[0m\u001b[0;34m)\u001b[0m\u001b[0;34m}\u001b[0m\u001b[0;34m\u001b[0m\u001b[0m\n\u001b[1;32m    323\u001b[0m             \u001b[0mcallbacks\u001b[0m\u001b[0;34m.\u001b[0m\u001b[0m_call_batch_hook\u001b[0m\u001b[0;34m(\u001b[0m\u001b[0;34m'predict'\u001b[0m\u001b[0;34m,\u001b[0m \u001b[0;34m'begin'\u001b[0m\u001b[0;34m,\u001b[0m \u001b[0mbatch_index\u001b[0m\u001b[0;34m,\u001b[0m \u001b[0mbatch_logs\u001b[0m\u001b[0;34m)\u001b[0m\u001b[0;34m\u001b[0m\u001b[0m\n\u001b[0;32m--> 324\u001b[0;31m             \u001b[0mbatch_outs\u001b[0m \u001b[0;34m=\u001b[0m \u001b[0mf\u001b[0m\u001b[0;34m(\u001b[0m\u001b[0mins_batch\u001b[0m\u001b[0;34m)\u001b[0m\u001b[0;34m\u001b[0m\u001b[0m\n\u001b[0m\u001b[1;32m    325\u001b[0m             \u001b[0mbatch_outs\u001b[0m \u001b[0;34m=\u001b[0m \u001b[0mto_list\u001b[0m\u001b[0;34m(\u001b[0m\u001b[0mbatch_outs\u001b[0m\u001b[0;34m)\u001b[0m\u001b[0;34m\u001b[0m\u001b[0m\n\u001b[1;32m    326\u001b[0m             \u001b[0;32mif\u001b[0m \u001b[0mbatch_index\u001b[0m \u001b[0;34m==\u001b[0m \u001b[0;36m0\u001b[0m\u001b[0;34m:\u001b[0m\u001b[0;34m\u001b[0m\u001b[0m\n",
      "\u001b[0;32m~/venv/fastai-2019-08-01/lib/python3.5/site-packages/tensorflow_core/python/keras/backend.py\u001b[0m in \u001b[0;36m__call__\u001b[0;34m(self, inputs)\u001b[0m\n\u001b[1;32m   3738\u001b[0m         \u001b[0mvalue\u001b[0m \u001b[0;34m=\u001b[0m \u001b[0mmath_ops\u001b[0m\u001b[0;34m.\u001b[0m\u001b[0mcast\u001b[0m\u001b[0;34m(\u001b[0m\u001b[0mvalue\u001b[0m\u001b[0;34m,\u001b[0m \u001b[0mtensor\u001b[0m\u001b[0;34m.\u001b[0m\u001b[0mdtype\u001b[0m\u001b[0;34m)\u001b[0m\u001b[0;34m\u001b[0m\u001b[0m\n\u001b[1;32m   3739\u001b[0m       \u001b[0mconverted_inputs\u001b[0m\u001b[0;34m.\u001b[0m\u001b[0mappend\u001b[0m\u001b[0;34m(\u001b[0m\u001b[0mvalue\u001b[0m\u001b[0;34m)\u001b[0m\u001b[0;34m\u001b[0m\u001b[0m\n\u001b[0;32m-> 3740\u001b[0;31m     \u001b[0moutputs\u001b[0m \u001b[0;34m=\u001b[0m \u001b[0mself\u001b[0m\u001b[0;34m.\u001b[0m\u001b[0m_graph_fn\u001b[0m\u001b[0;34m(\u001b[0m\u001b[0;34m*\u001b[0m\u001b[0mconverted_inputs\u001b[0m\u001b[0;34m)\u001b[0m\u001b[0;34m\u001b[0m\u001b[0m\n\u001b[0m\u001b[1;32m   3741\u001b[0m \u001b[0;34m\u001b[0m\u001b[0m\n\u001b[1;32m   3742\u001b[0m     \u001b[0;31m# EagerTensor.numpy() will often make a copy to ensure memory safety.\u001b[0m\u001b[0;34m\u001b[0m\u001b[0;34m\u001b[0m\u001b[0m\n",
      "\u001b[0;32m~/venv/fastai-2019-08-01/lib/python3.5/site-packages/tensorflow_core/python/eager/function.py\u001b[0m in \u001b[0;36m__call__\u001b[0;34m(self, *args, **kwargs)\u001b[0m\n\u001b[1;32m   1079\u001b[0m       \u001b[0mTypeError\u001b[0m\u001b[0;34m:\u001b[0m \u001b[0mFor\u001b[0m \u001b[0minvalid\u001b[0m \u001b[0mpositional\u001b[0m\u001b[0;34m/\u001b[0m\u001b[0mkeyword\u001b[0m \u001b[0margument\u001b[0m \u001b[0mcombinations\u001b[0m\u001b[0;34m.\u001b[0m\u001b[0;34m\u001b[0m\u001b[0m\n\u001b[1;32m   1080\u001b[0m     \"\"\"\n\u001b[0;32m-> 1081\u001b[0;31m     \u001b[0;32mreturn\u001b[0m \u001b[0mself\u001b[0m\u001b[0;34m.\u001b[0m\u001b[0m_call_impl\u001b[0m\u001b[0;34m(\u001b[0m\u001b[0margs\u001b[0m\u001b[0;34m,\u001b[0m \u001b[0mkwargs\u001b[0m\u001b[0;34m)\u001b[0m\u001b[0;34m\u001b[0m\u001b[0m\n\u001b[0m\u001b[1;32m   1082\u001b[0m \u001b[0;34m\u001b[0m\u001b[0m\n\u001b[1;32m   1083\u001b[0m   \u001b[0;32mdef\u001b[0m \u001b[0m_call_impl\u001b[0m\u001b[0;34m(\u001b[0m\u001b[0mself\u001b[0m\u001b[0;34m,\u001b[0m \u001b[0margs\u001b[0m\u001b[0;34m,\u001b[0m \u001b[0mkwargs\u001b[0m\u001b[0;34m,\u001b[0m \u001b[0mcancellation_manager\u001b[0m\u001b[0;34m=\u001b[0m\u001b[0;32mNone\u001b[0m\u001b[0;34m)\u001b[0m\u001b[0;34m:\u001b[0m\u001b[0;34m\u001b[0m\u001b[0m\n",
      "\u001b[0;32m~/venv/fastai-2019-08-01/lib/python3.5/site-packages/tensorflow_core/python/eager/function.py\u001b[0m in \u001b[0;36m_call_impl\u001b[0;34m(self, args, kwargs, cancellation_manager)\u001b[0m\n\u001b[1;32m   1119\u001b[0m       raise TypeError(\"Keyword arguments {} unknown. Expected {}.\".format(\n\u001b[1;32m   1120\u001b[0m           list(kwargs.keys()), list(self._arg_keywords)))\n\u001b[0;32m-> 1121\u001b[0;31m     \u001b[0;32mreturn\u001b[0m \u001b[0mself\u001b[0m\u001b[0;34m.\u001b[0m\u001b[0m_call_flat\u001b[0m\u001b[0;34m(\u001b[0m\u001b[0margs\u001b[0m\u001b[0;34m,\u001b[0m \u001b[0mself\u001b[0m\u001b[0;34m.\u001b[0m\u001b[0mcaptured_inputs\u001b[0m\u001b[0;34m,\u001b[0m \u001b[0mcancellation_manager\u001b[0m\u001b[0;34m)\u001b[0m\u001b[0;34m\u001b[0m\u001b[0m\n\u001b[0m\u001b[1;32m   1122\u001b[0m \u001b[0;34m\u001b[0m\u001b[0m\n\u001b[1;32m   1123\u001b[0m   \u001b[0;32mdef\u001b[0m \u001b[0m_filtered_call\u001b[0m\u001b[0;34m(\u001b[0m\u001b[0mself\u001b[0m\u001b[0;34m,\u001b[0m \u001b[0margs\u001b[0m\u001b[0;34m,\u001b[0m \u001b[0mkwargs\u001b[0m\u001b[0;34m)\u001b[0m\u001b[0;34m:\u001b[0m\u001b[0;34m\u001b[0m\u001b[0m\n",
      "\u001b[0;32m~/venv/fastai-2019-08-01/lib/python3.5/site-packages/tensorflow_core/python/eager/function.py\u001b[0m in \u001b[0;36m_call_flat\u001b[0;34m(self, args, captured_inputs, cancellation_manager)\u001b[0m\n\u001b[1;32m   1222\u001b[0m     \u001b[0;32mif\u001b[0m \u001b[0mexecuting_eagerly\u001b[0m\u001b[0;34m:\u001b[0m\u001b[0;34m\u001b[0m\u001b[0m\n\u001b[1;32m   1223\u001b[0m       flat_outputs = forward_function.call(\n\u001b[0;32m-> 1224\u001b[0;31m           ctx, args, cancellation_manager=cancellation_manager)\n\u001b[0m\u001b[1;32m   1225\u001b[0m     \u001b[0;32melse\u001b[0m\u001b[0;34m:\u001b[0m\u001b[0;34m\u001b[0m\u001b[0m\n\u001b[1;32m   1226\u001b[0m       \u001b[0mgradient_name\u001b[0m \u001b[0;34m=\u001b[0m \u001b[0mself\u001b[0m\u001b[0;34m.\u001b[0m\u001b[0m_delayed_rewrite_functions\u001b[0m\u001b[0;34m.\u001b[0m\u001b[0mregister\u001b[0m\u001b[0;34m(\u001b[0m\u001b[0;34m)\u001b[0m\u001b[0;34m\u001b[0m\u001b[0m\n",
      "\u001b[0;32m~/venv/fastai-2019-08-01/lib/python3.5/site-packages/tensorflow_core/python/eager/function.py\u001b[0m in \u001b[0;36mcall\u001b[0;34m(self, ctx, args, cancellation_manager)\u001b[0m\n\u001b[1;32m    509\u001b[0m               \u001b[0minputs\u001b[0m\u001b[0;34m=\u001b[0m\u001b[0margs\u001b[0m\u001b[0;34m,\u001b[0m\u001b[0;34m\u001b[0m\u001b[0m\n\u001b[1;32m    510\u001b[0m               \u001b[0mattrs\u001b[0m\u001b[0;34m=\u001b[0m\u001b[0;34m(\u001b[0m\u001b[0;34m\"executor_type\"\u001b[0m\u001b[0;34m,\u001b[0m \u001b[0mexecutor_type\u001b[0m\u001b[0;34m,\u001b[0m \u001b[0;34m\"config_proto\"\u001b[0m\u001b[0;34m,\u001b[0m \u001b[0mconfig\u001b[0m\u001b[0;34m)\u001b[0m\u001b[0;34m,\u001b[0m\u001b[0;34m\u001b[0m\u001b[0m\n\u001b[0;32m--> 511\u001b[0;31m               ctx=ctx)\n\u001b[0m\u001b[1;32m    512\u001b[0m         \u001b[0;32melse\u001b[0m\u001b[0;34m:\u001b[0m\u001b[0;34m\u001b[0m\u001b[0m\n\u001b[1;32m    513\u001b[0m           outputs = execute.execute_with_cancellation(\n",
      "\u001b[0;32m~/venv/fastai-2019-08-01/lib/python3.5/site-packages/tensorflow_core/python/eager/execute.py\u001b[0m in \u001b[0;36mquick_execute\u001b[0;34m(op_name, num_outputs, inputs, attrs, ctx, name)\u001b[0m\n\u001b[1;32m     65\u001b[0m     \u001b[0;32melse\u001b[0m\u001b[0;34m:\u001b[0m\u001b[0;34m\u001b[0m\u001b[0m\n\u001b[1;32m     66\u001b[0m       \u001b[0mmessage\u001b[0m \u001b[0;34m=\u001b[0m \u001b[0me\u001b[0m\u001b[0;34m.\u001b[0m\u001b[0mmessage\u001b[0m\u001b[0;34m\u001b[0m\u001b[0m\n\u001b[0;32m---> 67\u001b[0;31m     \u001b[0msix\u001b[0m\u001b[0;34m.\u001b[0m\u001b[0mraise_from\u001b[0m\u001b[0;34m(\u001b[0m\u001b[0mcore\u001b[0m\u001b[0;34m.\u001b[0m\u001b[0m_status_to_exception\u001b[0m\u001b[0;34m(\u001b[0m\u001b[0me\u001b[0m\u001b[0;34m.\u001b[0m\u001b[0mcode\u001b[0m\u001b[0;34m,\u001b[0m \u001b[0mmessage\u001b[0m\u001b[0;34m)\u001b[0m\u001b[0;34m,\u001b[0m \u001b[0;32mNone\u001b[0m\u001b[0;34m)\u001b[0m\u001b[0;34m\u001b[0m\u001b[0m\n\u001b[0m\u001b[1;32m     68\u001b[0m   \u001b[0;32mexcept\u001b[0m \u001b[0mTypeError\u001b[0m \u001b[0;32mas\u001b[0m \u001b[0me\u001b[0m\u001b[0;34m:\u001b[0m\u001b[0;34m\u001b[0m\u001b[0m\n\u001b[1;32m     69\u001b[0m     keras_symbolic_tensors = [\n",
      "\u001b[0;32m~/venv/fastai-2019-08-01/lib/python3.5/site-packages/six.py\u001b[0m in \u001b[0;36mraise_from\u001b[0;34m(value, from_value)\u001b[0m\n",
      "\u001b[0;31mInvalidArgumentError\u001b[0m:  indices[31,0] = -2147483648 is not in [0, 215245)\n\t [[node embedding_2/embedding_lookup (defined at /home/jhancock2010/venv/fastai-2019-08-01/lib/python3.5/site-packages/tensorflow_core/python/framework/ops.py:1751) ]] [Op:__inference_keras_scratch_graph_266]\n\nFunction call stack:\nkeras_scratch_graph\n"
     ]
    }
   ],
   "source": [
    "model.compile('rmsprop', 'mse')\n",
    "output_array = model.predict(train_data)"
   ]
  }
 ],
 "metadata": {
  "kernelspec": {
   "display_name": "Python 3",
   "language": "python",
   "name": "python3"
  },
  "language_info": {
   "codemirror_mode": {
    "name": "ipython",
    "version": 3
   },
   "file_extension": ".py",
   "mimetype": "text/x-python",
   "name": "python",
   "nbconvert_exporter": "python",
   "pygments_lexer": "ipython3",
   "version": "3.5.2"
  }
 },
 "nbformat": 4,
 "nbformat_minor": 2
}
