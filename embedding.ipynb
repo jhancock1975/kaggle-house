{
 "cells": [
  {
   "cell_type": "code",
   "execution_count": 6,
   "metadata": {},
   "outputs": [],
   "source": [
    "from keras import Sequential\n",
    "from keras.layers import Embedding\n",
    "import numpy as np\n",
    "import pandas as pd"
   ]
  },
  {
   "cell_type": "code",
   "execution_count": 8,
   "metadata": {},
   "outputs": [],
   "source": [
    "model = Sequential()\n",
    "model.add(Embedding(1000, 64, input_length=10))\n",
    "# the model will take as input an integer matrix of size (batch, input_length).\n",
    "# the largest integer (i.e. word index) in the input should be\n",
    "# no larger than 999 (vocabulary size).\n",
    "# now model.output_shape == (None, 10, 64), where None is the batch dimension.\n",
    "\n",
    "input_array = np.random.randint(1000, size=(32, 10))\n",
    "\n",
    "model.compile('rmsprop', 'mse')\n",
    "output_array = model.predict(input_array)\n",
    "assert output_array.shape == (32, 10, 64)"
   ]
  },
  {
   "cell_type": "code",
   "execution_count": 9,
   "metadata": {
    "collapsed": true
   },
   "outputs": [
    {
     "data": {
      "text/plain": [
       "array([[762, 438, 133, 309, 988, 479, 760,   4, 276, 377],\n",
       "       [102, 891, 150,  69, 297, 545, 667, 589, 400, 128],\n",
       "       [441, 166, 796, 107, 946, 924, 486, 505, 210, 548],\n",
       "       [823, 110, 506, 147, 148, 716, 450, 927, 387, 200],\n",
       "       [340, 384, 221, 883, 911, 267, 378, 856, 636,  31],\n",
       "       [655, 468, 802, 131, 839, 801, 911, 308, 257, 439],\n",
       "       [330,  15, 481, 821, 646, 271, 846, 963, 294, 440],\n",
       "       [ 63, 438, 286, 686, 560, 886, 236, 158, 867, 883],\n",
       "       [  3, 236, 614, 575, 876, 984, 780, 491, 287, 299],\n",
       "       [154, 738, 540, 460, 934, 494, 894, 378,  20, 316],\n",
       "       [130, 137,  57,  77,  89, 308, 817, 520, 268, 394],\n",
       "       [718,  32, 458, 384, 548, 691, 836, 677, 444, 690],\n",
       "       [578, 254, 931, 802, 671, 418, 956, 320, 523, 150],\n",
       "       [822, 376, 230, 692, 667, 980, 925, 336, 344, 334],\n",
       "       [672, 897, 131, 882, 192, 748,  59,  89, 801,  99],\n",
       "       [565, 662, 307,   6, 428, 179, 660, 329,  72, 405],\n",
       "       [290, 472, 831, 324, 464, 135, 811, 747, 717, 233],\n",
       "       [960, 908, 146, 624, 194, 158, 930, 322, 287, 985],\n",
       "       [529, 172, 707, 363, 985, 157, 478, 952, 189, 358],\n",
       "       [ 22, 965,  49,  29, 940, 929, 354,  36, 553, 639],\n",
       "       [128, 548,  47, 743, 598, 607, 541, 734, 327, 450],\n",
       "       [704, 746, 703, 602,  59, 823, 865, 539, 500, 293],\n",
       "       [ 27, 156, 931,  19, 349, 703, 366, 308, 620,  99],\n",
       "       [362, 122, 289, 951, 904, 933, 983,  42, 482, 563],\n",
       "       [ 71,  51, 890, 959, 342, 616, 342, 138, 146, 493],\n",
       "       [111, 265, 378, 662, 922, 852, 531, 399, 329, 177],\n",
       "       [135, 789, 275, 423, 379,  55, 531, 955, 146, 441],\n",
       "       [274, 325, 239, 976, 409, 265, 711, 491, 671, 126],\n",
       "       [299, 447, 785, 554, 614, 845, 915, 362, 771, 654],\n",
       "       [238, 934, 977, 250, 600, 511, 855, 581, 786, 211],\n",
       "       [751, 360, 936, 914, 730, 165, 194, 212, 267, 711],\n",
       "       [630, 881, 390, 625, 530, 130, 562, 668, 936, 958]])"
      ]
     },
     "execution_count": 9,
     "metadata": {},
     "output_type": "execute_result"
    }
   ],
   "source": [
    "input_array"
   ]
  },
  {
   "cell_type": "code",
   "execution_count": 10,
   "metadata": {},
   "outputs": [
    {
     "name": "stdout",
     "output_type": "stream",
     "text": [
      "Model: \"sequential_5\"\n",
      "_________________________________________________________________\n",
      "Layer (type)                 Output Shape              Param #   \n",
      "=================================================================\n",
      "embedding_5 (Embedding)      (None, 10, 64)            64000     \n",
      "=================================================================\n",
      "Total params: 64,000\n",
      "Trainable params: 64,000\n",
      "Non-trainable params: 0\n",
      "_________________________________________________________________\n"
     ]
    }
   ],
   "source": [
    "model.summary()"
   ]
  },
  {
   "cell_type": "code",
   "execution_count": 12,
   "metadata": {},
   "outputs": [
    {
     "data": {
      "text/plain": [
       "(32, 10, 64)"
      ]
     },
     "execution_count": 12,
     "metadata": {},
     "output_type": "execute_result"
    }
   ],
   "source": [
    "output_array.shape"
   ]
  },
  {
   "cell_type": "code",
   "execution_count": 13,
   "metadata": {
    "collapsed": true
   },
   "outputs": [
    {
     "data": {
      "text/plain": [
       "array([[[-1.97902080e-02, -1.97851658e-02, -2.86110528e-02, ...,\n",
       "          2.04533376e-02, -5.48856333e-03, -1.53464191e-02],\n",
       "        [ 1.55693926e-02, -4.23086546e-02,  3.88166197e-02, ...,\n",
       "          8.26353952e-03,  2.75744684e-02,  1.44720338e-02],\n",
       "        [ 2.68191956e-02, -2.23554727e-02, -1.56116486e-03, ...,\n",
       "         -3.28207985e-02, -1.02091581e-04,  4.83696200e-02],\n",
       "        ...,\n",
       "        [-1.07271671e-02, -1.55469552e-02, -1.00960582e-03, ...,\n",
       "         -5.23564965e-03,  2.79647969e-02, -1.17293969e-02],\n",
       "        [-4.74153757e-02, -2.68574357e-02,  3.35686915e-02, ...,\n",
       "         -2.89883371e-02,  2.17423178e-02,  4.30395342e-02],\n",
       "        [-3.48421223e-02, -1.21081583e-02,  4.73917648e-03, ...,\n",
       "         -8.64964724e-03,  4.14612405e-02,  4.99535240e-02]],\n",
       "\n",
       "       [[-3.87276784e-02,  3.31667103e-02,  1.43934377e-02, ...,\n",
       "          7.73501396e-03, -1.15987174e-02, -4.74767573e-02],\n",
       "        [-9.43536684e-03, -3.90840285e-02, -4.36153300e-02, ...,\n",
       "         -1.98038667e-03,  1.53522529e-02,  5.64199686e-03],\n",
       "        [ 1.52288750e-03, -1.69818997e-02,  1.82973184e-02, ...,\n",
       "         -1.91030987e-02,  3.07916440e-02, -2.83418782e-02],\n",
       "        ...,\n",
       "        [ 4.12320010e-02,  1.34999491e-02, -4.37455289e-02, ...,\n",
       "         -1.56057999e-03,  3.19717638e-02, -9.26628709e-05],\n",
       "        [-2.04158071e-02,  1.91081800e-02,  4.02744301e-02, ...,\n",
       "          1.59009434e-02,  5.45735285e-03,  3.14658917e-02],\n",
       "        [-7.03722239e-03,  2.49305479e-02, -3.36588249e-02, ...,\n",
       "         -2.25856155e-03,  7.51811266e-03,  5.17793745e-03]],\n",
       "\n",
       "       [[-2.95919776e-02,  2.50723474e-02,  1.26940943e-02, ...,\n",
       "         -1.75025463e-02,  4.89841439e-02,  8.59535858e-03],\n",
       "        [ 3.90219428e-02,  2.57301666e-02, -3.03936247e-02, ...,\n",
       "         -1.98952314e-02,  3.98219712e-02,  1.68715380e-02],\n",
       "        [ 4.98109125e-02,  5.22065163e-03, -1.81544796e-02, ...,\n",
       "         -8.22290033e-03, -4.54592481e-02,  9.06672329e-03],\n",
       "        ...,\n",
       "        [-1.97355282e-02,  1.58786215e-02, -4.89226468e-02, ...,\n",
       "          3.87300588e-02,  4.30576839e-02, -1.73678249e-03],\n",
       "        [-1.67982951e-02,  1.89499147e-02,  2.21128725e-02, ...,\n",
       "         -4.47719693e-02,  2.22290419e-02,  4.59984057e-02],\n",
       "        [-2.31559407e-02,  1.49056651e-02,  1.98590755e-03, ...,\n",
       "         -3.05216387e-03, -3.89581919e-02, -9.82626528e-03]],\n",
       "\n",
       "       ...,\n",
       "\n",
       "       [[-2.01342106e-02,  3.97971310e-02,  2.18212605e-03, ...,\n",
       "          4.11295928e-02,  1.11835115e-02, -4.30693515e-02],\n",
       "        [-2.00798512e-02,  3.91610302e-02,  3.10065784e-02, ...,\n",
       "          1.83097981e-02,  4.74717356e-02,  1.49215572e-02],\n",
       "        [-3.64087000e-02, -3.54997739e-02, -3.70810404e-02, ...,\n",
       "         -3.81383784e-02, -4.82486002e-02, -1.93281528e-02],\n",
       "        ...,\n",
       "        [-5.52641228e-03,  1.97323002e-02,  4.34286706e-02, ...,\n",
       "          3.93397324e-02, -2.93667447e-02,  5.68710640e-03],\n",
       "        [-2.84410249e-02, -3.47971320e-02,  4.48355190e-02, ...,\n",
       "          3.26494686e-02,  1.04257688e-02,  2.43922211e-02],\n",
       "        [ 2.09283940e-02,  4.10211124e-02, -5.12888283e-03, ...,\n",
       "          3.27998064e-02,  3.57980393e-02, -1.57243237e-02]],\n",
       "\n",
       "       [[-5.56688383e-03,  3.92048024e-02, -1.33524649e-02, ...,\n",
       "         -3.22599560e-02,  9.98003408e-03, -3.89182791e-02],\n",
       "        [ 1.14958994e-02,  3.10886987e-02, -3.65344174e-02, ...,\n",
       "          2.68444680e-02,  1.63056739e-02, -1.08429566e-02],\n",
       "        [ 4.87329476e-02,  2.05292590e-02,  2.28775404e-02, ...,\n",
       "         -4.95991856e-03,  4.86989953e-02, -2.21390259e-02],\n",
       "        ...,\n",
       "        [ 4.91801389e-02,  4.74983193e-02, -2.36960780e-02, ...,\n",
       "         -9.36423615e-03,  4.54298370e-02, -3.85883227e-02],\n",
       "        [ 9.10189003e-03, -4.52330969e-02,  1.08080730e-02, ...,\n",
       "          2.75322460e-02, -4.05660160e-02,  1.36252753e-02],\n",
       "        [ 1.83876790e-02,  2.15151571e-02, -1.96069367e-02, ...,\n",
       "          9.97352600e-03,  3.79143842e-02,  2.81755440e-02]],\n",
       "\n",
       "       [[-2.02575084e-02,  2.81760134e-02, -1.79372914e-02, ...,\n",
       "         -1.10034235e-02, -3.51500139e-02, -4.62538116e-02],\n",
       "        [-1.18074045e-02,  4.99866270e-02, -4.59026210e-02, ...,\n",
       "          1.40782259e-02,  4.88795079e-02, -4.49025147e-02],\n",
       "        [ 1.61562897e-02, -8.00999254e-03, -2.44002696e-02, ...,\n",
       "          3.98878343e-02, -3.56665142e-02,  1.78120397e-02],\n",
       "        ...,\n",
       "        [ 4.75059636e-02, -3.45129147e-02,  4.19108756e-02, ...,\n",
       "         -1.95659883e-02, -3.54838483e-02, -4.15278561e-02],\n",
       "        [ 4.87329476e-02,  2.05292590e-02,  2.28775404e-02, ...,\n",
       "         -4.95991856e-03,  4.86989953e-02, -2.21390259e-02],\n",
       "        [-2.31813435e-02, -4.34615389e-02, -4.18138504e-03, ...,\n",
       "          3.65415700e-02,  2.93095224e-02,  2.78165191e-03]]],\n",
       "      dtype=float32)"
      ]
     },
     "execution_count": 13,
     "metadata": {},
     "output_type": "execute_result"
    }
   ],
   "source": [
    "output_array"
   ]
  },
  {
   "cell_type": "code",
   "execution_count": 28,
   "metadata": {},
   "outputs": [],
   "source": [
    "def load_data(train_file_name, test_file_name):\n",
    "    \"\"\" load training data from kaggle dataset\n",
    "    @param train_file_name: fully qualified file name of train.csv from kaggle\n",
    "    housing practice competition\n",
    "    @param test_file_name: fully qualified file name of test.csv from kaggle\n",
    "    housing practice competition\n",
    "    @return: pair of tuples of observations and responses\n",
    "    \"\"\"\n",
    "    test_df = pd.read_csv(test_file_name, index_col='Id')    \n",
    "    train_df = pd.read_csv(train_file_name, index_col='Id')\n",
    "\n",
    "    def encode_cats(df):\n",
    "        \"\"\" one-hot encode all categorical values in data frame\n",
    "        @param df: a dataframe\n",
    "        @return: one hot encoded equivalents of non-numerical\n",
    "        columns in data frame\n",
    "        \"\"\"\n",
    "        df_numeric = df.select_dtypes(include = np.number)\n",
    "        df_numeric.fillna(df.mean(), inplace=True)\n",
    "        non_numeric_columns = df.select_dtypes(include=np.object).columns\n",
    "        df_one_hot =  pd.get_dummies(df[non_numeric_columns])\n",
    "        df_one_hot.fillna(0, inplace=True)\n",
    "        return pd.concat([df_numeric, df_one_hot], axis  = 1)\n",
    "    \n",
    "    return (encode_cats(train_df.iloc[:,1:-1]), train_df.iloc[:,-1] ), \\\n",
    "        encode_cats(test_df)"
   ]
  },
  {
   "cell_type": "code",
   "execution_count": 31,
   "metadata": {},
   "outputs": [
    {
     "name": "stderr",
     "output_type": "stream",
     "text": [
      "/home/jhancock2010/venv/fastai-2019-08-01/lib/python3.5/site-packages/pandas/core/generic.py:6130: SettingWithCopyWarning: \n",
      "A value is trying to be set on a copy of a slice from a DataFrame\n",
      "\n",
      "See the caveats in the documentation: http://pandas.pydata.org/pandas-docs/stable/indexing.html#indexing-view-versus-copy\n",
      "  self._update_inplace(new_data)\n"
     ]
    }
   ],
   "source": [
    "(train_data , train_targets), test_data = load_data('/home/jhancock2010/git/data/house/train.csv',\n",
    "                                                 '/home/jhancock2010/git/data/house/test.csv')\n",
    "mean = train_data.mean(axis=0)\n",
    "train_data -= mean\n",
    "std = train_data.std(axis=0)\n",
    "train_data /= std\n",
    "test_data -= mean\n",
    "test_data /= std\n"
   ]
  },
  {
   "cell_type": "code",
   "execution_count": 10,
   "metadata": {},
   "outputs": [
    {
     "data": {
      "text/plain": [
       "287"
      ]
     },
     "execution_count": 10,
     "metadata": {},
     "output_type": "execute_result"
    }
   ],
   "source": [
    "train_data.shape[1]"
   ]
  },
  {
   "cell_type": "code",
   "execution_count": 35,
   "metadata": {},
   "outputs": [
    {
     "name": "stdout",
     "output_type": "stream",
     "text": [
      "38.183775152957416 -38.1837751529566\n"
     ]
    }
   ],
   "source": [
    "print(train_data.max().max(),\n",
    "train_data.min().min())"
   ]
  },
  {
   "cell_type": "code",
   "execution_count": 22,
   "metadata": {},
   "outputs": [],
   "source": [
    "model = Sequential()\n",
    "model.add(Embedding(215245, 64, input_length=train_data.shape[1]))"
   ]
  },
  {
   "cell_type": "code",
   "execution_count": 23,
   "metadata": {},
   "outputs": [
    {
     "ename": "InvalidArgumentError",
     "evalue": " indices[31,0] = -2147483648 is not in [0, 215245)\n\t [[node embedding_2/embedding_lookup (defined at /home/jhancock2010/venv/fastai-2019-08-01/lib/python3.5/site-packages/tensorflow_core/python/framework/ops.py:1751) ]] [Op:__inference_keras_scratch_graph_266]\n\nFunction call stack:\nkeras_scratch_graph\n",
     "output_type": "error",
     "traceback": [
      "\u001b[0;31m---------------------------------------------------------------------------\u001b[0m",
      "\u001b[0;31mInvalidArgumentError\u001b[0m                      Traceback (most recent call last)",
      "\u001b[0;32m<ipython-input-23-1771c431f1de>\u001b[0m in \u001b[0;36m<module>\u001b[0;34m\u001b[0m\n\u001b[1;32m      1\u001b[0m \u001b[0mmodel\u001b[0m\u001b[0;34m.\u001b[0m\u001b[0mcompile\u001b[0m\u001b[0;34m(\u001b[0m\u001b[0;34m'rmsprop'\u001b[0m\u001b[0;34m,\u001b[0m \u001b[0;34m'mse'\u001b[0m\u001b[0;34m)\u001b[0m\u001b[0;34m\u001b[0m\u001b[0m\n\u001b[0;32m----> 2\u001b[0;31m \u001b[0moutput_array\u001b[0m \u001b[0;34m=\u001b[0m \u001b[0mmodel\u001b[0m\u001b[0;34m.\u001b[0m\u001b[0mpredict\u001b[0m\u001b[0;34m(\u001b[0m\u001b[0mtrain_data\u001b[0m\u001b[0;34m)\u001b[0m\u001b[0;34m\u001b[0m\u001b[0m\n\u001b[0m",
      "\u001b[0;32m~/venv/fastai-2019-08-01/lib/python3.5/site-packages/keras/engine/training.py\u001b[0m in \u001b[0;36mpredict\u001b[0;34m(self, x, batch_size, verbose, steps, callbacks, max_queue_size, workers, use_multiprocessing)\u001b[0m\n\u001b[1;32m   1460\u001b[0m                                             \u001b[0mverbose\u001b[0m\u001b[0;34m=\u001b[0m\u001b[0mverbose\u001b[0m\u001b[0;34m,\u001b[0m\u001b[0;34m\u001b[0m\u001b[0m\n\u001b[1;32m   1461\u001b[0m                                             \u001b[0msteps\u001b[0m\u001b[0;34m=\u001b[0m\u001b[0msteps\u001b[0m\u001b[0;34m,\u001b[0m\u001b[0;34m\u001b[0m\u001b[0m\n\u001b[0;32m-> 1462\u001b[0;31m                                             callbacks=callbacks)\n\u001b[0m\u001b[1;32m   1463\u001b[0m \u001b[0;34m\u001b[0m\u001b[0m\n\u001b[1;32m   1464\u001b[0m     def train_on_batch(self, x, y,\n",
      "\u001b[0;32m~/venv/fastai-2019-08-01/lib/python3.5/site-packages/keras/engine/training_arrays.py\u001b[0m in \u001b[0;36mpredict_loop\u001b[0;34m(model, f, ins, batch_size, verbose, steps, callbacks)\u001b[0m\n\u001b[1;32m    322\u001b[0m             \u001b[0mbatch_logs\u001b[0m \u001b[0;34m=\u001b[0m \u001b[0;34m{\u001b[0m\u001b[0;34m'batch'\u001b[0m\u001b[0;34m:\u001b[0m \u001b[0mbatch_index\u001b[0m\u001b[0;34m,\u001b[0m \u001b[0;34m'size'\u001b[0m\u001b[0;34m:\u001b[0m \u001b[0mlen\u001b[0m\u001b[0;34m(\u001b[0m\u001b[0mbatch_ids\u001b[0m\u001b[0;34m)\u001b[0m\u001b[0;34m}\u001b[0m\u001b[0;34m\u001b[0m\u001b[0m\n\u001b[1;32m    323\u001b[0m             \u001b[0mcallbacks\u001b[0m\u001b[0;34m.\u001b[0m\u001b[0m_call_batch_hook\u001b[0m\u001b[0;34m(\u001b[0m\u001b[0;34m'predict'\u001b[0m\u001b[0;34m,\u001b[0m \u001b[0;34m'begin'\u001b[0m\u001b[0;34m,\u001b[0m \u001b[0mbatch_index\u001b[0m\u001b[0;34m,\u001b[0m \u001b[0mbatch_logs\u001b[0m\u001b[0;34m)\u001b[0m\u001b[0;34m\u001b[0m\u001b[0m\n\u001b[0;32m--> 324\u001b[0;31m             \u001b[0mbatch_outs\u001b[0m \u001b[0;34m=\u001b[0m \u001b[0mf\u001b[0m\u001b[0;34m(\u001b[0m\u001b[0mins_batch\u001b[0m\u001b[0;34m)\u001b[0m\u001b[0;34m\u001b[0m\u001b[0m\n\u001b[0m\u001b[1;32m    325\u001b[0m             \u001b[0mbatch_outs\u001b[0m \u001b[0;34m=\u001b[0m \u001b[0mto_list\u001b[0m\u001b[0;34m(\u001b[0m\u001b[0mbatch_outs\u001b[0m\u001b[0;34m)\u001b[0m\u001b[0;34m\u001b[0m\u001b[0m\n\u001b[1;32m    326\u001b[0m             \u001b[0;32mif\u001b[0m \u001b[0mbatch_index\u001b[0m \u001b[0;34m==\u001b[0m \u001b[0;36m0\u001b[0m\u001b[0;34m:\u001b[0m\u001b[0;34m\u001b[0m\u001b[0m\n",
      "\u001b[0;32m~/venv/fastai-2019-08-01/lib/python3.5/site-packages/tensorflow_core/python/keras/backend.py\u001b[0m in \u001b[0;36m__call__\u001b[0;34m(self, inputs)\u001b[0m\n\u001b[1;32m   3738\u001b[0m         \u001b[0mvalue\u001b[0m \u001b[0;34m=\u001b[0m \u001b[0mmath_ops\u001b[0m\u001b[0;34m.\u001b[0m\u001b[0mcast\u001b[0m\u001b[0;34m(\u001b[0m\u001b[0mvalue\u001b[0m\u001b[0;34m,\u001b[0m \u001b[0mtensor\u001b[0m\u001b[0;34m.\u001b[0m\u001b[0mdtype\u001b[0m\u001b[0;34m)\u001b[0m\u001b[0;34m\u001b[0m\u001b[0m\n\u001b[1;32m   3739\u001b[0m       \u001b[0mconverted_inputs\u001b[0m\u001b[0;34m.\u001b[0m\u001b[0mappend\u001b[0m\u001b[0;34m(\u001b[0m\u001b[0mvalue\u001b[0m\u001b[0;34m)\u001b[0m\u001b[0;34m\u001b[0m\u001b[0m\n\u001b[0;32m-> 3740\u001b[0;31m     \u001b[0moutputs\u001b[0m \u001b[0;34m=\u001b[0m \u001b[0mself\u001b[0m\u001b[0;34m.\u001b[0m\u001b[0m_graph_fn\u001b[0m\u001b[0;34m(\u001b[0m\u001b[0;34m*\u001b[0m\u001b[0mconverted_inputs\u001b[0m\u001b[0;34m)\u001b[0m\u001b[0;34m\u001b[0m\u001b[0m\n\u001b[0m\u001b[1;32m   3741\u001b[0m \u001b[0;34m\u001b[0m\u001b[0m\n\u001b[1;32m   3742\u001b[0m     \u001b[0;31m# EagerTensor.numpy() will often make a copy to ensure memory safety.\u001b[0m\u001b[0;34m\u001b[0m\u001b[0;34m\u001b[0m\u001b[0m\n",
      "\u001b[0;32m~/venv/fastai-2019-08-01/lib/python3.5/site-packages/tensorflow_core/python/eager/function.py\u001b[0m in \u001b[0;36m__call__\u001b[0;34m(self, *args, **kwargs)\u001b[0m\n\u001b[1;32m   1079\u001b[0m       \u001b[0mTypeError\u001b[0m\u001b[0;34m:\u001b[0m \u001b[0mFor\u001b[0m \u001b[0minvalid\u001b[0m \u001b[0mpositional\u001b[0m\u001b[0;34m/\u001b[0m\u001b[0mkeyword\u001b[0m \u001b[0margument\u001b[0m \u001b[0mcombinations\u001b[0m\u001b[0;34m.\u001b[0m\u001b[0;34m\u001b[0m\u001b[0m\n\u001b[1;32m   1080\u001b[0m     \"\"\"\n\u001b[0;32m-> 1081\u001b[0;31m     \u001b[0;32mreturn\u001b[0m \u001b[0mself\u001b[0m\u001b[0;34m.\u001b[0m\u001b[0m_call_impl\u001b[0m\u001b[0;34m(\u001b[0m\u001b[0margs\u001b[0m\u001b[0;34m,\u001b[0m \u001b[0mkwargs\u001b[0m\u001b[0;34m)\u001b[0m\u001b[0;34m\u001b[0m\u001b[0m\n\u001b[0m\u001b[1;32m   1082\u001b[0m \u001b[0;34m\u001b[0m\u001b[0m\n\u001b[1;32m   1083\u001b[0m   \u001b[0;32mdef\u001b[0m \u001b[0m_call_impl\u001b[0m\u001b[0;34m(\u001b[0m\u001b[0mself\u001b[0m\u001b[0;34m,\u001b[0m \u001b[0margs\u001b[0m\u001b[0;34m,\u001b[0m \u001b[0mkwargs\u001b[0m\u001b[0;34m,\u001b[0m \u001b[0mcancellation_manager\u001b[0m\u001b[0;34m=\u001b[0m\u001b[0;32mNone\u001b[0m\u001b[0;34m)\u001b[0m\u001b[0;34m:\u001b[0m\u001b[0;34m\u001b[0m\u001b[0m\n",
      "\u001b[0;32m~/venv/fastai-2019-08-01/lib/python3.5/site-packages/tensorflow_core/python/eager/function.py\u001b[0m in \u001b[0;36m_call_impl\u001b[0;34m(self, args, kwargs, cancellation_manager)\u001b[0m\n\u001b[1;32m   1119\u001b[0m       raise TypeError(\"Keyword arguments {} unknown. Expected {}.\".format(\n\u001b[1;32m   1120\u001b[0m           list(kwargs.keys()), list(self._arg_keywords)))\n\u001b[0;32m-> 1121\u001b[0;31m     \u001b[0;32mreturn\u001b[0m \u001b[0mself\u001b[0m\u001b[0;34m.\u001b[0m\u001b[0m_call_flat\u001b[0m\u001b[0;34m(\u001b[0m\u001b[0margs\u001b[0m\u001b[0;34m,\u001b[0m \u001b[0mself\u001b[0m\u001b[0;34m.\u001b[0m\u001b[0mcaptured_inputs\u001b[0m\u001b[0;34m,\u001b[0m \u001b[0mcancellation_manager\u001b[0m\u001b[0;34m)\u001b[0m\u001b[0;34m\u001b[0m\u001b[0m\n\u001b[0m\u001b[1;32m   1122\u001b[0m \u001b[0;34m\u001b[0m\u001b[0m\n\u001b[1;32m   1123\u001b[0m   \u001b[0;32mdef\u001b[0m \u001b[0m_filtered_call\u001b[0m\u001b[0;34m(\u001b[0m\u001b[0mself\u001b[0m\u001b[0;34m,\u001b[0m \u001b[0margs\u001b[0m\u001b[0;34m,\u001b[0m \u001b[0mkwargs\u001b[0m\u001b[0;34m)\u001b[0m\u001b[0;34m:\u001b[0m\u001b[0;34m\u001b[0m\u001b[0m\n",
      "\u001b[0;32m~/venv/fastai-2019-08-01/lib/python3.5/site-packages/tensorflow_core/python/eager/function.py\u001b[0m in \u001b[0;36m_call_flat\u001b[0;34m(self, args, captured_inputs, cancellation_manager)\u001b[0m\n\u001b[1;32m   1222\u001b[0m     \u001b[0;32mif\u001b[0m \u001b[0mexecuting_eagerly\u001b[0m\u001b[0;34m:\u001b[0m\u001b[0;34m\u001b[0m\u001b[0m\n\u001b[1;32m   1223\u001b[0m       flat_outputs = forward_function.call(\n\u001b[0;32m-> 1224\u001b[0;31m           ctx, args, cancellation_manager=cancellation_manager)\n\u001b[0m\u001b[1;32m   1225\u001b[0m     \u001b[0;32melse\u001b[0m\u001b[0;34m:\u001b[0m\u001b[0;34m\u001b[0m\u001b[0m\n\u001b[1;32m   1226\u001b[0m       \u001b[0mgradient_name\u001b[0m \u001b[0;34m=\u001b[0m \u001b[0mself\u001b[0m\u001b[0;34m.\u001b[0m\u001b[0m_delayed_rewrite_functions\u001b[0m\u001b[0;34m.\u001b[0m\u001b[0mregister\u001b[0m\u001b[0;34m(\u001b[0m\u001b[0;34m)\u001b[0m\u001b[0;34m\u001b[0m\u001b[0m\n",
      "\u001b[0;32m~/venv/fastai-2019-08-01/lib/python3.5/site-packages/tensorflow_core/python/eager/function.py\u001b[0m in \u001b[0;36mcall\u001b[0;34m(self, ctx, args, cancellation_manager)\u001b[0m\n\u001b[1;32m    509\u001b[0m               \u001b[0minputs\u001b[0m\u001b[0;34m=\u001b[0m\u001b[0margs\u001b[0m\u001b[0;34m,\u001b[0m\u001b[0;34m\u001b[0m\u001b[0m\n\u001b[1;32m    510\u001b[0m               \u001b[0mattrs\u001b[0m\u001b[0;34m=\u001b[0m\u001b[0;34m(\u001b[0m\u001b[0;34m\"executor_type\"\u001b[0m\u001b[0;34m,\u001b[0m \u001b[0mexecutor_type\u001b[0m\u001b[0;34m,\u001b[0m \u001b[0;34m\"config_proto\"\u001b[0m\u001b[0;34m,\u001b[0m \u001b[0mconfig\u001b[0m\u001b[0;34m)\u001b[0m\u001b[0;34m,\u001b[0m\u001b[0;34m\u001b[0m\u001b[0m\n\u001b[0;32m--> 511\u001b[0;31m               ctx=ctx)\n\u001b[0m\u001b[1;32m    512\u001b[0m         \u001b[0;32melse\u001b[0m\u001b[0;34m:\u001b[0m\u001b[0;34m\u001b[0m\u001b[0m\n\u001b[1;32m    513\u001b[0m           outputs = execute.execute_with_cancellation(\n",
      "\u001b[0;32m~/venv/fastai-2019-08-01/lib/python3.5/site-packages/tensorflow_core/python/eager/execute.py\u001b[0m in \u001b[0;36mquick_execute\u001b[0;34m(op_name, num_outputs, inputs, attrs, ctx, name)\u001b[0m\n\u001b[1;32m     65\u001b[0m     \u001b[0;32melse\u001b[0m\u001b[0;34m:\u001b[0m\u001b[0;34m\u001b[0m\u001b[0m\n\u001b[1;32m     66\u001b[0m       \u001b[0mmessage\u001b[0m \u001b[0;34m=\u001b[0m \u001b[0me\u001b[0m\u001b[0;34m.\u001b[0m\u001b[0mmessage\u001b[0m\u001b[0;34m\u001b[0m\u001b[0m\n\u001b[0;32m---> 67\u001b[0;31m     \u001b[0msix\u001b[0m\u001b[0;34m.\u001b[0m\u001b[0mraise_from\u001b[0m\u001b[0;34m(\u001b[0m\u001b[0mcore\u001b[0m\u001b[0;34m.\u001b[0m\u001b[0m_status_to_exception\u001b[0m\u001b[0;34m(\u001b[0m\u001b[0me\u001b[0m\u001b[0;34m.\u001b[0m\u001b[0mcode\u001b[0m\u001b[0;34m,\u001b[0m \u001b[0mmessage\u001b[0m\u001b[0;34m)\u001b[0m\u001b[0;34m,\u001b[0m \u001b[0;32mNone\u001b[0m\u001b[0;34m)\u001b[0m\u001b[0;34m\u001b[0m\u001b[0m\n\u001b[0m\u001b[1;32m     68\u001b[0m   \u001b[0;32mexcept\u001b[0m \u001b[0mTypeError\u001b[0m \u001b[0;32mas\u001b[0m \u001b[0me\u001b[0m\u001b[0;34m:\u001b[0m\u001b[0;34m\u001b[0m\u001b[0m\n\u001b[1;32m     69\u001b[0m     keras_symbolic_tensors = [\n",
      "\u001b[0;32m~/venv/fastai-2019-08-01/lib/python3.5/site-packages/six.py\u001b[0m in \u001b[0;36mraise_from\u001b[0;34m(value, from_value)\u001b[0m\n",
      "\u001b[0;31mInvalidArgumentError\u001b[0m:  indices[31,0] = -2147483648 is not in [0, 215245)\n\t [[node embedding_2/embedding_lookup (defined at /home/jhancock2010/venv/fastai-2019-08-01/lib/python3.5/site-packages/tensorflow_core/python/framework/ops.py:1751) ]] [Op:__inference_keras_scratch_graph_266]\n\nFunction call stack:\nkeras_scratch_graph\n"
     ]
    }
   ],
   "source": [
    "model.compile('rmsprop', 'mse')\n",
    "output_array = model.predict(train_data)"
   ]
  }
 ],
 "metadata": {
  "kernelspec": {
   "display_name": "Python 3",
   "language": "python",
   "name": "python3"
  },
  "language_info": {
   "codemirror_mode": {
    "name": "ipython",
    "version": 3
   },
   "file_extension": ".py",
   "mimetype": "text/x-python",
   "name": "python",
   "nbconvert_exporter": "python",
   "pygments_lexer": "ipython3",
   "version": "3.5.2"
  }
 },
 "nbformat": 4,
 "nbformat_minor": 2
}
